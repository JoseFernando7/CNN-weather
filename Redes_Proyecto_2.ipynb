{
 "cells": [
  {
   "cell_type": "code",
   "execution_count": null,
   "metadata": {
    "colab": {
     "base_uri": "https://localhost:8080/"
    },
    "id": "r-1U50wMQJIU",
    "outputId": "e4e3e428-d9dc-4197-a9f3-0565cd773293"
   },
   "outputs": [],
   "source": [
    "!kaggle datasets download jehanbhathena/weather-dataset\n",
    "!unzip weather-dataset.zip"
   ]
  },
  {
   "cell_type": "markdown",
   "metadata": {
    "id": "xf6xelrBatcH"
   },
   "source": [
    "## Análisis Exploratorio de Datos (EDA)"
   ]
  },
  {
   "cell_type": "code",
   "execution_count": null,
   "metadata": {
    "id": "NyetiJo5arzw"
   },
   "outputs": [],
   "source": [
    "import os\n",
    "import matplotlib.pyplot as plt\n",
    "import numpy as np\n",
    "from PIL import Image\n",
    "from collections import Counter"
   ]
  },
  {
   "cell_type": "code",
   "execution_count": null,
   "metadata": {
    "id": "ZQMIKEs1bK9L"
   },
   "outputs": [],
   "source": [
    "# Directorio del Dataset\n",
    "data_dir = 'dataset'"
   ]
  },
  {
   "cell_type": "code",
   "execution_count": null,
   "metadata": {
    "colab": {
     "base_uri": "https://localhost:8080/"
    },
    "id": "gL5mnsRSbO96",
    "outputId": "6dfefd8b-c02f-494e-ecb2-f7478c0a46e4"
   },
   "outputs": [],
   "source": [
    "# Listar las carpetas (clases)\n",
    "classes = os.listdir(data_dir)\n",
    "print(f\"Clases encontradas: {classes}\")"
   ]
  },
  {
   "cell_type": "code",
   "execution_count": null,
   "metadata": {
    "colab": {
     "base_uri": "https://localhost:8080/"
    },
    "id": "6MR7uBnMbf_4",
    "outputId": "5f09c51a-fe59-4152-eb1c-4bf69f298e42"
   },
   "outputs": [],
   "source": [
    "# Contar el número de imágenes por clase\n",
    "image_count = {\n",
    "    cls: len(os.listdir(os.path.join(data_dir, cls)))\n",
    "    for cls in classes\n",
    "}\n",
    "print(f\"Imágenes por clase: {image_count}\")"
   ]
  },
  {
   "cell_type": "code",
   "execution_count": null,
   "metadata": {
    "colab": {
     "base_uri": "https://localhost:8080/",
     "height": 520
    },
    "id": "EoM4wpBgb5ju",
    "outputId": "02b560fe-111e-437a-abda-34e5a5fcf099"
   },
   "outputs": [],
   "source": [
    "# Visualizar distribución de imágenes por clase\n",
    "plt.bar(image_count.keys(), image_count.values())\n",
    "plt.title('Distribución de Imágenes por Clase')\n",
    "plt.xlabel('Clase')\n",
    "plt.ylabel('Número de Imágenes')\n",
    "plt.xticks(rotation=45)\n",
    "plt.show()"
   ]
  },
  {
   "cell_type": "code",
   "execution_count": null,
   "metadata": {
    "colab": {
     "base_uri": "https://localhost:8080/",
     "height": 195
    },
    "id": "Sd7syWZKcZS8",
    "outputId": "8f6da4bf-eb03-4c90-f296-d785164141c1"
   },
   "outputs": [],
   "source": [
    "# Mostrar imágenes al azar\n",
    "def show_random_images(data_dir, classes, num_images=5):\n",
    "  fig, axes = plt.subplots(1, num_images, figsize=(15, 15))\n",
    "\n",
    "  for ax in axes:\n",
    "    cls = np.random.choice(classes)\n",
    "    img_path = os.path.join(data_dir, cls, np.random.choice(os.listdir(os.path.join(data_dir, cls))))\n",
    "    img = Image.open(img_path)\n",
    "    ax.imshow(img)\n",
    "    ax.set_title(cls)\n",
    "    ax.axis('off')\n",
    "\n",
    "  plt.show()\n",
    "\n",
    "show_random_images(data_dir, classes)"
   ]
  },
  {
   "cell_type": "markdown",
   "metadata": {
    "id": "ObpM3jEFmRm9"
   },
   "source": [
    "## Separar las imágenes en 3 conjuntos para el modelo"
   ]
  },
  {
   "cell_type": "code",
   "execution_count": null,
   "metadata": {
    "id": "jsCFr5BqmQSZ"
   },
   "outputs": [],
   "source": [
    "import shutil\n",
    "from sklearn.model_selection import train_test_split"
   ]
  },
  {
   "cell_type": "code",
   "execution_count": null,
   "metadata": {
    "id": "p4PjuOKOmmo1"
   },
   "outputs": [],
   "source": [
    "# Establecer porcentajes para los conjuntos\n",
    "validation_split = 0.15\n",
    "test_split = 0.15\n",
    "train_split = 1 - validation_split - test_split\n",
    "\n",
    "# Configuración de directorios\n",
    "train_dir = os.path.join(data_dir, 'train')\n",
    "valid_dir = os.path.join(data_dir, 'valid')\n",
    "test_dir = os.path.join(data_dir, 'test')\n",
    "\n",
    "# Crear directorios de salida\n",
    "os.makedirs(train_dir, exist_ok=True)\n",
    "os.makedirs(valid_dir, exist_ok=True)\n",
    "os.makedirs(test_dir, exist_ok=True)"
   ]
  },
  {
   "cell_type": "code",
   "execution_count": null,
   "metadata": {
    "colab": {
     "base_uri": "https://localhost:8080/"
    },
    "id": "o_EwqQbYnFLk",
    "outputId": "4cc0b83a-9d20-41ad-f5cf-cc88f4908503"
   },
   "outputs": [],
   "source": [
    "# Procesar cada clase\n",
    "for cls in classes:\n",
    "    cls_dir = os.path.join(data_dir, cls)\n",
    "\n",
    "    # Ignorar carpetas que no sean clases\n",
    "    if not os.path.isdir(cls_dir):\n",
    "        continue\n",
    "\n",
    "    # Obtener imágenes de la clase\n",
    "    images = os.listdir(cls_dir)\n",
    "\n",
    "    # Separar en entrenamiento, validación y prueba\n",
    "    try:\n",
    "      train_images, temp_images = train_test_split(images, test_size=(validation_split + test_split), random_state=42)\n",
    "      valid_images, test_images = train_test_split(temp_images, test_size=(test_split / (validation_split + test_split)), random_state=42)\n",
    "    except ValueError as e:\n",
    "      print(f\"Error al dividir las imágenes de la clase '{cls}': {e}\")\n",
    "      continue\n",
    "\n",
    "    # Crear subcarpetas para la clase en cada conjunto\n",
    "    os.makedirs(os.path.join(train_dir, cls), exist_ok=True)\n",
    "    os.makedirs(os.path.join(valid_dir, cls), exist_ok=True)\n",
    "    os.makedirs(os.path.join(test_dir, cls), exist_ok=True)\n",
    "\n",
    "    # Mover imágenes a los conjuntos correspondientes\n",
    "    for image in train_images:\n",
    "        shutil.move(os.path.join(cls_dir, image), os.path.join(train_dir, cls, image))\n",
    "\n",
    "    for image in valid_images:\n",
    "        shutil.move(os.path.join(cls_dir, image), os.path.join(valid_dir, cls, image))\n",
    "\n",
    "    for image in test_images:\n",
    "        shutil.move(os.path.join(cls_dir, image), os.path.join(test_dir, cls, image))\n",
    "\n",
    "print(\"Conjuntos creados con éxito:\")\n",
    "print(f\"- Entrenamiento: {train_dir}\")\n",
    "print(f\"- Validación: {valid_dir}\")\n",
    "print(f\"- Prueba: {test_dir}\")"
   ]
  },
  {
   "cell_type": "code",
   "execution_count": null,
   "metadata": {
    "colab": {
     "base_uri": "https://localhost:8080/"
    },
    "id": "FWvI0bdorKP2",
    "outputId": "4f503714-d326-4485-b540-74a6282e7947"
   },
   "outputs": [],
   "source": [
    "# Verificar las cantidades en cada conjunto\n",
    "def count_images_in_directory(directory):\n",
    "    total = 0\n",
    "    for cls in os.listdir(directory):\n",
    "        total += len(os.listdir(os.path.join(directory, cls)))\n",
    "    return total\n",
    "\n",
    "print(f\"Imágenes en entrenamiento: {count_images_in_directory(train_dir)}\")\n",
    "print(f\"Imágenes en validación: {count_images_in_directory(valid_dir)}\")\n",
    "print(f\"Imágenes en prueba: {count_images_in_directory(test_dir)}\")\n"
   ]
  },
  {
   "cell_type": "code",
   "execution_count": null,
   "metadata": {
    "id": "j7P1L8N0VDrj"
   },
   "outputs": [],
   "source": [
    "import tensorflow as tf\n",
    "from tensorflow.keras.preprocessing.image import ImageDataGenerator"
   ]
  },
  {
   "cell_type": "code",
   "execution_count": null,
   "metadata": {
    "id": "bC60qGVoXLNd"
   },
   "outputs": [],
   "source": [
    "# Preprocesamiento\n",
    "data_gen = ImageDataGenerator(\n",
    "    rescale=1./255,           # Normalización\n",
    "    rotation_range=30,        # Aumento: rotaciones\n",
    "    width_shift_range=0.2,    # Desplazamientos horizontales\n",
    "    height_shift_range=0.2,   # Desplazamientos verticales\n",
    "    zoom_range=0.2,           # Zoom aleatorio\n",
    "    horizontal_flip=True,     # Volteo horizontal\n",
    "    #validation_split=0.15     # Separación de validación\n",
    ")"
   ]
  },
  {
   "cell_type": "code",
   "execution_count": null,
   "metadata": {
    "colab": {
     "base_uri": "https://localhost:8080/"
    },
    "id": "ht44kl1HYObG",
    "outputId": "e363ae46-8241-4178-e371-afbdf34012d7"
   },
   "outputs": [],
   "source": [
    "# Crear generadores de datos\n",
    "train_gen = data_gen.flow_from_directory(\n",
    "    train_dir,\n",
    "    target_size=(64, 64),\n",
    "    batch_size=32,\n",
    "    class_mode='categorical'\n",
    ")"
   ]
  },
  {
   "cell_type": "code",
   "execution_count": null,
   "metadata": {
    "colab": {
     "base_uri": "https://localhost:8080/"
    },
    "id": "PxOnd9EhYnG7",
    "outputId": "8b5246ba-16d7-4c03-ecaa-73c179cac5a8"
   },
   "outputs": [],
   "source": [
    "# Generadores de validación y prueba (sin aumento)\n",
    "valid_gen = ImageDataGenerator(rescale=1./255).flow_from_directory(\n",
    "    valid_dir,\n",
    "    target_size=(64, 64),\n",
    "    batch_size=32,\n",
    "    class_mode='categorical'\n",
    ")\n",
    "\n",
    "test_gen = ImageDataGenerator(rescale=1./255).flow_from_directory(\n",
    "    test_dir,\n",
    "    target_size=(64, 64),\n",
    "    batch_size=32,\n",
    "    class_mode='categorical',\n",
    "    shuffle=False\n",
    ")"
   ]
  },
  {
   "cell_type": "markdown",
   "metadata": {
    "id": "xZpMrUvascOv"
   },
   "source": [
    "## Diseño del modelo"
   ]
  },
  {
   "cell_type": "code",
   "execution_count": null,
   "metadata": {
    "id": "LPno7z-m_oQT"
   },
   "outputs": [],
   "source": [
    "from tensorflow.keras.models import Sequential\n",
    "from tensorflow.keras.layers import Conv2D, MaxPooling2D, Flatten, Dense, Dropout, BatchNormalization"
   ]
  },
  {
   "cell_type": "code",
   "execution_count": null,
   "metadata": {
    "colab": {
     "base_uri": "https://localhost:8080/"
    },
    "id": "4rBCY8sHAw_b",
    "outputId": "9dad07d8-d8f1-4021-f61f-6dbabe653edb"
   },
   "outputs": [],
   "source": [
    "# Crear el modelo\n",
    "model = Sequential([\n",
    "    # Primera capa convolucional + pooling\n",
    "    Conv2D(32, (3, 3), activation='relu', input_shape=(64, 64, 3)),\n",
    "    BatchNormalization(),\n",
    "    MaxPooling2D((2, 2)),\n",
    "\n",
    "    # Segunda capa convolucional + pooling\n",
    "    Conv2D(64, (3, 3), activation='relu'),\n",
    "    BatchNormalization(),\n",
    "    MaxPooling2D((2, 2)),\n",
    "\n",
    "    # Tercera capa convolucional + pooling\n",
    "    Conv2D(128, (3, 3), activation='relu'),\n",
    "    BatchNormalization(),\n",
    "    MaxPooling2D((2, 2)),\n",
    "\n",
    "    # Primera capa convolucional adicional\n",
    "    Conv2D(256, (3, 3), activation='relu'),\n",
    "    BatchNormalization(),\n",
    "    MaxPooling2D((2, 2)),\n",
    "\n",
    "    # Aplanar y añadir capas densas\n",
    "    Flatten(),\n",
    "\n",
    "    # Primera capa densa\n",
    "    Dense(256, activation='relu'),\n",
    "    Dropout(0.5),  # Regularización para evitar sobreajuste\n",
    "\n",
    "    # Segunda capa densa\n",
    "    Dense(128, activation='relu'),\n",
    "    Dropout(0.5),  # Regularización para evitar sobreajuste\n",
    "\n",
    "    # Capa de salida\n",
    "    Dense(len(classes), activation='softmax')\n",
    "])"
   ]
  },
  {
   "cell_type": "code",
   "execution_count": null,
   "metadata": {
    "colab": {
     "base_uri": "https://localhost:8080/",
     "height": 816
    },
    "id": "EcuRFW8RCHHS",
    "outputId": "dfa7dd67-6647-42f0-bcc4-a7f1e55f30a6"
   },
   "outputs": [],
   "source": [
    "# Compilar el modelo\n",
    "model.compile(optimizer='adam', loss='categorical_crossentropy', metrics=['accuracy'])\n",
    "\n",
    "model.summary()"
   ]
  },
  {
   "cell_type": "markdown",
   "metadata": {
    "id": "PYAC0eofDGrT"
   },
   "source": [
    "## Entrenamiento del modelo"
   ]
  },
  {
   "cell_type": "code",
   "execution_count": null,
   "metadata": {
    "colab": {
     "base_uri": "https://localhost:8080/"
    },
    "id": "16yLUuwCDNi5",
    "outputId": "bdad21e3-b3b9-468d-fe28-e5b456661d1c"
   },
   "outputs": [],
   "source": [
    "history = model.fit(\n",
    "    train_gen,\n",
    "    validation_data=valid_gen,\n",
    "    epochs=15,\n",
    "    steps_per_epoch=train_gen.samples // train_gen.batch_size,\n",
    "    validation_steps=valid_gen.samples // valid_gen.batch_size\n",
    ")"
   ]
  },
  {
   "cell_type": "markdown",
   "metadata": {
    "id": "5w1jEcbsagJa"
   },
   "source": [
    "## Evaluación del modelo"
   ]
  },
  {
   "cell_type": "code",
   "execution_count": null,
   "metadata": {
    "colab": {
     "base_uri": "https://localhost:8080/"
    },
    "id": "nvel85SwajJn",
    "outputId": "571d9281-8f7e-4ee8-9f56-4b4241e83679"
   },
   "outputs": [],
   "source": [
    "# Evaluar el modelo con el conjunto de prueba\n",
    "test_loss, test_accuracy = model.evaluate(test_gen, steps=test_gen.samples // test_gen.batch_size)\n",
    "\n",
    "print(f\"Precisión en el conjunto de prueba: {test_accuracy * 100:.2f}%\")\n",
    "print(f\"Pérdida en el conjunto de prueba: {test_loss:.4f}\")"
   ]
  },
  {
   "cell_type": "markdown",
   "metadata": {
    "id": "POmXKpMLb80h"
   },
   "source": [
    "## Matriz de confusión"
   ]
  },
  {
   "cell_type": "code",
   "execution_count": null,
   "metadata": {
    "id": "e1cw5Mwfb_Mf"
   },
   "outputs": [],
   "source": [
    "from sklearn.metrics import confusion_matrix, classification_report\n",
    "import seaborn as sns"
   ]
  },
  {
   "cell_type": "code",
   "execution_count": null,
   "metadata": {
    "colab": {
     "base_uri": "https://localhost:8080/",
     "height": 1000
    },
    "id": "q6ZbiBl9cCjK",
    "outputId": "42e51b0a-1d36-4629-8dd9-a8880f87497d"
   },
   "outputs": [],
   "source": [
    "# Obtener predicciones\n",
    "test_gen.reset()\n",
    "predictions = model.predict(test_gen, steps=len(test_gen), verbose=1)\n",
    "predicted_classes = np.argmax(predictions, axis=1)\n",
    "\n",
    "# Obtener etiquetas verdaderas\n",
    "true_classes = test_gen.classes\n",
    "class_labels = list(test_gen.class_indices.keys())\n",
    "\n",
    "# Matriz de confusión\n",
    "confusion_mtx = confusion_matrix(true_classes, predicted_classes)\n",
    "\n",
    "# Visualizar matriz de confusión\n",
    "plt.figure(figsize=(10, 8))\n",
    "sns.heatmap(confusion_mtx, annot=True, fmt='d', cmap='Blues', xticklabels=class_labels, yticklabels=class_labels)\n",
    "plt.title('Matriz de Confusión')\n",
    "plt.ylabel('Clase Real')\n",
    "plt.xlabel('Clase predicha')\n",
    "plt.show()\n",
    "\n",
    "# Reporte de clasificación\n",
    "print(\"\\nReporte de Clasificación:\")\n",
    "print(classification_report(true_classes, predicted_classes, target_names=class_labels))"
   ]
  },
  {
   "cell_type": "code",
   "execution_count": null,
   "metadata": {
    "colab": {
     "base_uri": "https://localhost:8080/",
     "height": 718
    },
    "id": "QhXFhqeBkSgX",
    "outputId": "a59cc921-6af6-4b79-8c0b-35af1902568a"
   },
   "outputs": [],
   "source": [
    "# prompt: Make the ROC curv graphic for all classes\n",
    "\n",
    "from sklearn.metrics import roc_curve, auc\n",
    "from sklearn.preprocessing import label_binarize\n",
    "import matplotlib.pyplot as plt\n",
    "\n",
    "# Binarizar las etiquetas\n",
    "y_true_bin = label_binarize(true_classes, classes=np.arange(len(class_labels)))\n",
    "\n",
    "# Calcular las curvas ROC para cada clase\n",
    "fpr = dict()\n",
    "tpr = dict()\n",
    "roc_auc = dict()\n",
    "for i in range(len(class_labels)):\n",
    "    fpr[i], tpr[i], _ = roc_curve(y_true_bin[:, i], predictions[:, i])\n",
    "    roc_auc[i] = auc(fpr[i], tpr[i])\n",
    "\n",
    "# Graficar las curvas ROC\n",
    "plt.figure(figsize=(10, 8))\n",
    "for i in range(len(class_labels)):\n",
    "    plt.plot(fpr[i], tpr[i], label=f'{class_labels[i]} (AUC = {roc_auc[i]:.2f})')\n",
    "\n",
    "plt.plot([0, 1], [0, 1], 'k--')  # Línea de referencia\n",
    "plt.xlabel('Tasa de Falsos Positivos')\n",
    "plt.ylabel('Tasa de Verdaderos Positivos')\n",
    "plt.title('Curvas ROC para cada clase')\n",
    "plt.legend(loc='lower right')\n",
    "plt.show()"
   ]
  }
 ],
 "metadata": {
  "colab": {
   "provenance": []
  },
  "kernelspec": {
   "display_name": "Python 3",
   "name": "python3"
  },
  "language_info": {
   "name": "python"
  }
 },
 "nbformat": 4,
 "nbformat_minor": 0
}
